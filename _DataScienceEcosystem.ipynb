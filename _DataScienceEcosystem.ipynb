{
 "cells": [
  {
   "cell_type": "markdown",
   "id": "e2ea136b-e878-4834-8acd-360d6bab6e87",
   "metadata": {
    "tags": []
   },
   "source": [
    "# DataScienceEcosystem"
   ]
  },
  {
   "cell_type": "markdown",
   "id": "c62da7a9-e27f-4c1b-a636-eae4f650b0b0",
   "metadata": {
    "tags": []
   },
   "source": [
    "# DataScienceEcosystem"
   ]
  },
  {
   "cell_type": "markdown",
   "id": "b8c9bc71-8816-4c26-aaa4-6e0222d330e9",
   "metadata": {},
   "source": [
    "This is a project for ibm data science course."
   ]
  },
  {
   "cell_type": "markdown",
   "id": "a4327ab4-49c4-4a46-bdf9-0a0d05b40d65",
   "metadata": {},
   "source": [
    "**Objectives:**\n",
    "List of popular languages that used in data science:\n",
    "- Python\n",
    "- C++\n",
    "- R"
   ]
  },
  {
   "cell_type": "markdown",
   "id": "4fd9d313-76ad-4d67-9df4-b52171191957",
   "metadata": {},
   "source": [
    "**Objectives:**\n",
    "List of popular languages that used in data science:\n",
    "- Python\n",
    "- C++\n",
    "- R"
   ]
  },
  {
   "cell_type": "markdown",
   "id": "b6496106-06ec-493c-b8a0-7b7c945c8c90",
   "metadata": {},
   "source": [
    "Some of the software languages that data scientists use are:\n",
    "1. Pytho\n",
    "2. R\n",
    "3. SQL\n",
    "4. Julia"
   ]
  },
  {
   "cell_type": "markdown",
   "id": "95963840-87fe-4ab6-9e6f-09f4626a9760",
   "metadata": {},
   "source": [
    "Some of the software languages that data scientists use are:\n",
    "1. Python\n",
    "2. R\n",
    "3. SQL\n",
    "4. Julia"
   ]
  },
  {
   "cell_type": "markdown",
   "id": "7885eb8e-a569-4541-bdd9-fc6596348aef",
   "metadata": {},
   "source": [
    "Some of the commonly used libraries used by Data Scientists include:\n",
    "1. Pandas\n",
    "2. NumPy\n",
    "3. Matplotlib"
   ]
  },
  {
   "cell_type": "markdown",
   "id": "d11b4671-fca6-419e-9312-2d7081367952",
   "metadata": {},
   "source": [
    "Some of the commonly used libraries used by Data Scientists include:\n",
    "1. Pandas\n",
    "2. NumPy\n",
    "3. Matplotlib"
   ]
  },
  {
   "cell_type": "markdown",
   "id": "cf366e7f-5353-41da-b6ad-a01b29f56f85",
   "metadata": {
    "tags": []
   },
   "source": [
    "|Data Science Tools|\n",
    "|---------------|\n",
    "|Jupiter Notebook|\n",
    "| Rstudio|\n",
    "| Visual Studio|\n"
   ]
  },
  {
   "cell_type": "markdown",
   "id": "e7737bf4-2928-4ccb-ae87-06ae622946d3",
   "metadata": {
    "tags": []
   },
   "source": [
    "|Data Science Tools|\n",
    "|---------------|\n",
    "|Jupiter Notebook|\n",
    "| Rstudio|\n",
    "| Visual Studio|\n"
   ]
  },
  {
   "cell_type": "markdown",
   "id": "f44684f8-8824-4915-9c21-e2ee2402ba73",
   "metadata": {},
   "source": [
    "### Below are a few examples of evaluating arithmetic expressions in Python"
   ]
  },
  {
   "cell_type": "markdown",
   "id": "b97ecf26-4fd5-4144-96df-997bea364c7e",
   "metadata": {},
   "source": [
    "### Below are a few examples of evaluating arithmetic expressions in Python"
   ]
  },
  {
   "cell_type": "markdown",
   "id": "aad1ed0b-afbd-4671-8774-6b8197ea4a25",
   "metadata": {},
   "source": [
    "This a simple arithmetic expression to mutiply 3 and 4 then add 5."
   ]
  },
  {
   "cell_type": "code",
   "execution_count": 3,
   "id": "96ef4f8f-eabf-49d0-ab96-8380a0e2cb2f",
   "metadata": {
    "tags": []
   },
   "outputs": [
    {
     "data": {
      "text/plain": [
       "17"
      ]
     },
     "execution_count": 3,
     "metadata": {},
     "output_type": "execute_result"
    }
   ],
   "source": [
    "(3*4)+5"
   ]
  },
  {
   "cell_type": "code",
   "execution_count": 8,
   "id": "47e4c4f6-93d6-4518-be69-f2b3a38a210a",
   "metadata": {
    "tags": []
   },
   "outputs": [],
   "source": [
    "hr=200//60\n",
    "min=200-(hr*60)"
   ]
  },
  {
   "cell_type": "code",
   "execution_count": 11,
   "id": "6160ecec-6933-4c6a-bb8c-d49e52ec2715",
   "metadata": {
    "tags": []
   },
   "outputs": [
    {
     "name": "stdout",
     "output_type": "stream",
     "text": [
      "3 hours 20 minutes\n"
     ]
    }
   ],
   "source": [
    "print(str(hr)+\" hours \"+str(min)+\" minutes\")"
   ]
  },
  {
   "cell_type": "markdown",
   "id": "b9aafcbd-5776-43d0-95b6-8b15a2dcf0bf",
   "metadata": {},
   "source": [
    "## Author\n",
    "Anıl Kerem Demir"
   ]
  },
  {
   "cell_type": "markdown",
   "id": "d517bfb9-3a36-49dd-8830-ef3da84b6eed",
   "metadata": {},
   "source": [
    "## Author\n",
    "Anıl Kerem Demir"
   ]
  }
 ],
 "metadata": {
  "kernelspec": {
   "display_name": "Python",
   "language": "python",
   "name": "conda-env-python-py"
  },
  "language_info": {
   "codemirror_mode": {
    "name": "ipython",
    "version": 3
   },
   "file_extension": ".py",
   "mimetype": "text/x-python",
   "name": "python",
   "nbconvert_exporter": "python",
   "pygments_lexer": "ipython3",
   "version": "3.7.12"
  }
 },
 "nbformat": 4,
 "nbformat_minor": 5
}
